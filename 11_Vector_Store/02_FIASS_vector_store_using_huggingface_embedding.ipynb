{
 "cells": [
  {
   "cell_type": "code",
   "execution_count": 1,
   "id": "4f5727cb",
   "metadata": {},
   "outputs": [],
   "source": [
    "# !uv pip install langchain faiss-cpu openai langchain_huggingface tiktoken pypdf langchain-community"
   ]
  },
  {
   "cell_type": "code",
   "execution_count": 2,
   "id": "13167749",
   "metadata": {},
   "outputs": [
    {
     "name": "stderr",
     "output_type": "stream",
     "text": [
      "/mnt/d/Academics/Generative AI by CampusX/.venv/lib/python3.12/site-packages/tqdm/auto.py:21: TqdmWarning: IProgress not found. Please update jupyter and ipywidgets. See https://ipywidgets.readthedocs.io/en/stable/user_install.html\n",
      "  from .autonotebook import tqdm as notebook_tqdm\n"
     ]
    }
   ],
   "source": [
    "from langchain_huggingface import HuggingFaceEmbeddings\n",
    "from langchain_community.vectorstores import FAISS\n",
    "from langchain.schema import Document\n",
    "\n",
    "# Hugging Face embeddings\n",
    "embeddings = HuggingFaceEmbeddings(\n",
    "    model_name=\"sentence-transformers/all-MiniLM-L6-v2\"\n",
    ")"
   ]
  },
  {
   "cell_type": "code",
   "execution_count": 3,
   "metadata": {},
   "outputs": [],
   "source": [
    "# Create Langchain documents for IPL Players\n",
    "\n",
    "doc1 = Document(\n",
    "    page_content=\"Virat Kohli is a right-handed batsman and former captain of the Indian cricket team.\",\n",
    "    metadata={\"team\": \"Royal Challengers Bangalore\", \"role\": \"Batsman\"}\n",
    ")\n",
    "\n",
    "doc2 = Document (\n",
    "    page_content=\"Jasprit Bumrah is a right-arm fast bowler known for his unique bowling action and yorkers.\",\n",
    "    metadata={\"team\": \"Mumbai Indians\", \"role\": \"Bowler\"}\n",
    ")\n",
    "\n",
    "doc3 = Document (\n",
    "    page_content=\"MS Dhoni is a wicket-keeper batsman and former captain of the Indian cricket team.\",\n",
    "    metadata={\"team\": \"Chennai Super Kings\", \"role\": \"Wicket-Keeper\"}\n",
    ")\n",
    "\n",
    "doc4 = Document (\n",
    "    page_content=\"Rohit Sharma is a right-handed batsman and the current captain of the Indian cricket team.\",\n",
    "    metadata={\"team\": \"Mumbai Indians\", \"role\": \"Batsman\"}\n",
    ")\n",
    "\n",
    "doc5 = Document (\n",
    "    page_content=\"Hardik Pandya is an all-rounder who can contribute with both bat and ball.\",\n",
    "    metadata={\"team\": \"Mumbai Indians\", \"role\": \"All-Rounder\"}\n",
    ")"
   ]
  },
  {
   "cell_type": "code",
   "execution_count": 4,
   "id": "5d1fb11a",
   "metadata": {},
   "outputs": [],
   "source": [
    "# List of documents\n",
    "\n",
    "docs = [doc1, doc2, doc3, doc4, doc5]"
   ]
  },
  {
   "cell_type": "code",
   "execution_count": 5,
   "metadata": {},
   "outputs": [
    {
     "name": "stderr",
     "output_type": "stream",
     "text": [
      "/mnt/d/Academics/Generative AI by CampusX/.venv/lib/python3.12/site-packages/torch/nn/modules/module.py:1784: FutureWarning: `encoder_attention_mask` is deprecated and will be removed in version 4.55.0 for `BertSdpaSelfAttention.forward`.\n",
      "  return forward_call(*args, **kwargs)\n"
     ]
    }
   ],
   "source": [
    "# Create FAISS DB using HuggingFace embeddings\n",
    "vector_store = FAISS.from_documents(\n",
    "    documents=docs,\n",
    "    embedding=embeddings\n",
    ")\n"
   ]
  },
  {
   "cell_type": "code",
   "execution_count": 6,
   "id": "63c219b7",
   "metadata": {},
   "outputs": [],
   "source": [
    "# Save FAISS index\n",
    "vector_store.save_local(\"02_FAISS_db\")"
   ]
  },
  {
   "cell_type": "code",
   "execution_count": 7,
   "id": "5e1c963c",
   "metadata": {},
   "outputs": [
    {
     "name": "stdout",
     "output_type": "stream",
     "text": [
      "Number of documents in loaded FAISS DB: 5\n"
     ]
    }
   ],
   "source": [
    "# Load FAISS index back\n",
    "loaded_vector_store = FAISS.load_local(\"02_FAISS_db\", embeddings, allow_dangerous_deserialization=True)\n",
    "print(f\"Number of documents in loaded FAISS DB: {loaded_vector_store.index.ntotal}\")"
   ]
  },
  {
   "cell_type": "code",
   "execution_count": 8,
   "id": "516baf1d",
   "metadata": {},
   "outputs": [
    {
     "name": "stdout",
     "output_type": "stream",
     "text": [
      "ID: a4457e49-4d31-46b5-8fdf-aaedcc2353c5\n",
      "Content: Virat Kohli is a right-handed batsman and former captain of the Indian cricket team.\n",
      "Metadata: {'team': 'Royal Challengers Bangalore', 'role': 'Batsman'}\n",
      "--------------------------------------------------\n",
      "ID: f7172fcc-6e3f-41f2-9806-fc2074b29e8f\n",
      "Content: Jasprit Bumrah is a right-arm fast bowler known for his unique bowling action and yorkers.\n",
      "Metadata: {'team': 'Mumbai Indians', 'role': 'Bowler'}\n",
      "--------------------------------------------------\n",
      "ID: ccfc415f-5288-4d71-9f9d-b080879eca92\n",
      "Content: MS Dhoni is a wicket-keeper batsman and former captain of the Indian cricket team.\n",
      "Metadata: {'team': 'Chennai Super Kings', 'role': 'Wicket-Keeper'}\n",
      "--------------------------------------------------\n",
      "ID: b741b752-021f-4420-b35b-e496b3b5e682\n",
      "Content: Rohit Sharma is a right-handed batsman and the current captain of the Indian cricket team.\n",
      "Metadata: {'team': 'Mumbai Indians', 'role': 'Batsman'}\n",
      "--------------------------------------------------\n",
      "ID: 86d9ce1d-4cd0-459d-8e4b-3fe3c354e2b4\n",
      "Content: Hardik Pandya is an all-rounder who can contribute with both bat and ball.\n",
      "Metadata: {'team': 'Mumbai Indians', 'role': 'All-Rounder'}\n",
      "--------------------------------------------------\n"
     ]
    }
   ],
   "source": [
    "# Inspect all stored docs in FAISS\n",
    "for doc_id, doc in vector_store.docstore._dict.items():\n",
    "    print(f\"ID: {doc_id}\")\n",
    "    print(f\"Content: {doc.page_content}\")\n",
    "    print(f\"Metadata: {doc.metadata}\")\n",
    "    print(\"-\" * 50)"
   ]
  },
  {
   "cell_type": "code",
   "execution_count": 9,
   "id": "2fa537b6",
   "metadata": {},
   "outputs": [
    {
     "name": "stdout",
     "output_type": "stream",
     "text": [
      "[Document(id='86d9ce1d-4cd0-459d-8e4b-3fe3c354e2b4', metadata={'team': 'Mumbai Indians', 'role': 'All-Rounder'}, page_content='Hardik Pandya is an all-rounder who can contribute with both bat and ball.'), Document(id='ccfc415f-5288-4d71-9f9d-b080879eca92', metadata={'team': 'Chennai Super Kings', 'role': 'Wicket-Keeper'}, page_content='MS Dhoni is a wicket-keeper batsman and former captain of the Indian cricket team.')]\n"
     ]
    }
   ],
   "source": [
    "# Search for similar documents\n",
    "query = \"Who among the players is a wicket-keeper?\"\n",
    "\n",
    "results = vector_store.similarity_search(query, k=2)  # k is the number of similar documents to retrieve\n",
    "print(results)"
   ]
  },
  {
   "cell_type": "code",
   "execution_count": 10,
   "id": "526a9222",
   "metadata": {},
   "outputs": [
    {
     "name": "stdout",
     "output_type": "stream",
     "text": [
      "[(Document(id='86d9ce1d-4cd0-459d-8e4b-3fe3c354e2b4', metadata={'team': 'Mumbai Indians', 'role': 'All-Rounder'}, page_content='Hardik Pandya is an all-rounder who can contribute with both bat and ball.'), np.float32(0.9861963)), (Document(id='ccfc415f-5288-4d71-9f9d-b080879eca92', metadata={'team': 'Chennai Super Kings', 'role': 'Wicket-Keeper'}, page_content='MS Dhoni is a wicket-keeper batsman and former captain of the Indian cricket team.'), np.float32(1.0380211))]\n"
     ]
    }
   ],
   "source": [
    "# search with similarity score\n",
    "\n",
    "results_with_score = vector_store.similarity_search_with_score(query, k=2)\n",
    "print(results_with_score)"
   ]
  },
  {
   "cell_type": "code",
   "execution_count": 11,
   "id": "ac1f6474",
   "metadata": {},
   "outputs": [
    {
     "name": "stdout",
     "output_type": "stream",
     "text": [
      "[Document(id='b741b752-021f-4420-b35b-e496b3b5e682', metadata={'team': 'Mumbai Indians', 'role': 'Batsman'}, page_content='Rohit Sharma is a right-handed batsman and the current captain of the Indian cricket team.'), Document(id='a4457e49-4d31-46b5-8fdf-aaedcc2353c5', metadata={'team': 'Royal Challengers Bangalore', 'role': 'Batsman'}, page_content='Virat Kohli is a right-handed batsman and former captain of the Indian cricket team.')]\n"
     ]
    }
   ],
   "source": [
    "# meta data filter\n",
    "filter_criteria = {\"role\": \"Batsman\"}\n",
    "\n",
    "filtered_results = vector_store.similarity_search(\n",
    "    # query, k=2, filter=filter_criteria\n",
    "    query=\"\", k=2, filter=filter_criteria\n",
    ")\n",
    "print(filtered_results)"
   ]
  },
  {
   "cell_type": "code",
   "execution_count": 12,
   "id": "8305f8e6",
   "metadata": {},
   "outputs": [
    {
     "data": {
      "text/plain": [
       "['5b179085-f3e5-4148-be16-f622e6fc25ef']"
      ]
     },
     "execution_count": 12,
     "metadata": {},
     "output_type": "execute_result"
    }
   ],
   "source": [
    "# update document \n",
    "updated_doc3 = Document (\n",
    "    page_content=\"Mahendra Singh Dhoni is a wicket-keeper batsman and former captain of the Indian cricket team. He is known for his calm demeanor and finishing abilities.\" ,\n",
    "    metadata={\"team\": \"Chennai Super Kings\", \"role\": \"Wicket-Keeper\"}\n",
    ") \n",
    "\n",
    "vector_store.add_documents([updated_doc3], ids=[\"5b179085-f3e5-4148-be16-f622e6fc25ef\"])  # Assuming doc3 has an ID of \"3\"\n",
    "\n",
    "# 5b179085-f3e5-4148-be16-f622e6fc25ef"
   ]
  },
  {
   "cell_type": "code",
   "execution_count": 13,
   "id": "8e52ff3b",
   "metadata": {},
   "outputs": [
    {
     "name": "stdout",
     "output_type": "stream",
     "text": [
      "ID: a4457e49-4d31-46b5-8fdf-aaedcc2353c5\n",
      "Content: Virat Kohli is a right-handed batsman and former captain of the Indian cricket team.\n",
      "Metadata: {'team': 'Royal Challengers Bangalore', 'role': 'Batsman'}\n",
      "--------------------------------------------------\n",
      "ID: f7172fcc-6e3f-41f2-9806-fc2074b29e8f\n",
      "Content: Jasprit Bumrah is a right-arm fast bowler known for his unique bowling action and yorkers.\n",
      "Metadata: {'team': 'Mumbai Indians', 'role': 'Bowler'}\n",
      "--------------------------------------------------\n",
      "ID: ccfc415f-5288-4d71-9f9d-b080879eca92\n",
      "Content: MS Dhoni is a wicket-keeper batsman and former captain of the Indian cricket team.\n",
      "Metadata: {'team': 'Chennai Super Kings', 'role': 'Wicket-Keeper'}\n",
      "--------------------------------------------------\n",
      "ID: b741b752-021f-4420-b35b-e496b3b5e682\n",
      "Content: Rohit Sharma is a right-handed batsman and the current captain of the Indian cricket team.\n",
      "Metadata: {'team': 'Mumbai Indians', 'role': 'Batsman'}\n",
      "--------------------------------------------------\n",
      "ID: 86d9ce1d-4cd0-459d-8e4b-3fe3c354e2b4\n",
      "Content: Hardik Pandya is an all-rounder who can contribute with both bat and ball.\n",
      "Metadata: {'team': 'Mumbai Indians', 'role': 'All-Rounder'}\n",
      "--------------------------------------------------\n",
      "ID: 5b179085-f3e5-4148-be16-f622e6fc25ef\n",
      "Content: Mahendra Singh Dhoni is a wicket-keeper batsman and former captain of the Indian cricket team. He is known for his calm demeanor and finishing abilities.\n",
      "Metadata: {'team': 'Chennai Super Kings', 'role': 'Wicket-Keeper'}\n",
      "--------------------------------------------------\n"
     ]
    }
   ],
   "source": [
    "# View documents in the collection\n",
    "# Inspect all stored docs in FAISS\n",
    "for doc_id, doc in vector_store.docstore._dict.items():\n",
    "    print(f\"ID: {doc_id}\")\n",
    "    print(f\"Content: {doc.page_content}\")\n",
    "    print(f\"Metadata: {doc.metadata}\")\n",
    "    print(\"-\" * 50)\n"
   ]
  },
  {
   "cell_type": "code",
   "execution_count": 14,
   "metadata": {},
   "outputs": [],
   "source": [
    "# Delete document\n",
    "deleted_doc2 = vector_store.delete(ids=[\"5b179085-f3e5-4148-be16-f622e6fc25ef\"])   # Replace \"3\" with your actual stored ID"
   ]
  },
  {
   "cell_type": "code",
   "execution_count": 15,
   "id": "8115757f",
   "metadata": {},
   "outputs": [
    {
     "name": "stdout",
     "output_type": "stream",
     "text": [
      "ID: a4457e49-4d31-46b5-8fdf-aaedcc2353c5\n",
      "Content: Virat Kohli is a right-handed batsman and former captain of the Indian cricket team.\n",
      "Metadata: {'team': 'Royal Challengers Bangalore', 'role': 'Batsman'}\n",
      "--------------------------------------------------\n",
      "ID: f7172fcc-6e3f-41f2-9806-fc2074b29e8f\n",
      "Content: Jasprit Bumrah is a right-arm fast bowler known for his unique bowling action and yorkers.\n",
      "Metadata: {'team': 'Mumbai Indians', 'role': 'Bowler'}\n",
      "--------------------------------------------------\n",
      "ID: ccfc415f-5288-4d71-9f9d-b080879eca92\n",
      "Content: MS Dhoni is a wicket-keeper batsman and former captain of the Indian cricket team.\n",
      "Metadata: {'team': 'Chennai Super Kings', 'role': 'Wicket-Keeper'}\n",
      "--------------------------------------------------\n",
      "ID: b741b752-021f-4420-b35b-e496b3b5e682\n",
      "Content: Rohit Sharma is a right-handed batsman and the current captain of the Indian cricket team.\n",
      "Metadata: {'team': 'Mumbai Indians', 'role': 'Batsman'}\n",
      "--------------------------------------------------\n",
      "ID: 86d9ce1d-4cd0-459d-8e4b-3fe3c354e2b4\n",
      "Content: Hardik Pandya is an all-rounder who can contribute with both bat and ball.\n",
      "Metadata: {'team': 'Mumbai Indians', 'role': 'All-Rounder'}\n",
      "--------------------------------------------------\n"
     ]
    }
   ],
   "source": [
    "# View documents in the collection after update and delete\n",
    "# Inspect all stored docs in FAISS\n",
    "for doc_id, doc in vector_store.docstore._dict.items():\n",
    "    print(f\"ID: {doc_id}\")\n",
    "    print(f\"Content: {doc.page_content}\")\n",
    "    print(f\"Metadata: {doc.metadata}\")\n",
    "    print(\"-\" * 50)"
   ]
  }
 ],
 "metadata": {
  "kernelspec": {
   "display_name": "Generative AI by CampusX",
   "language": "python",
   "name": "python3"
  },
  "language_info": {
   "codemirror_mode": {
    "name": "ipython",
    "version": 3
   },
   "file_extension": ".py",
   "mimetype": "text/x-python",
   "name": "python",
   "nbconvert_exporter": "python",
   "pygments_lexer": "ipython3",
   "version": "3.12.3"
  }
 },
 "nbformat": 4,
 "nbformat_minor": 5
}
