{
 "cells": [
  {
   "cell_type": "code",
   "execution_count": null,
   "id": "4f5727cb",
   "metadata": {},
   "outputs": [
    {
     "name": "stdout",
     "output_type": "stream",
     "text": [
      "/bin/bash: line 1: uv: command not found\n"
     ]
    }
   ],
   "source": [
    "# !uv pip install langchain chromadb openai langchain_openai tiktoken pypdf langchain-community"
   ]
  },
  {
   "cell_type": "code",
   "execution_count": 2,
   "metadata": {},
   "outputs": [],
   "source": [
    "# from langchain_huggingface import ChatHuggingFace, HuggingFaceEndpoint\n",
    "# from dotenv import load_dotenv\n",
    "# from langchain_core.prompts import PromptTemplate\n",
    "\n",
    "# load_dotenv()\n",
    "\n",
    "# llm = HuggingFaceEndpoint(\n",
    "#     repo_id=\"openai/gpt-oss-20b\",\n",
    "#     task=\"text-generation\"\n",
    "# )\n",
    "# model = ChatHuggingFace(llm=llm)"
   ]
  },
  {
   "cell_type": "code",
   "execution_count": 6,
   "id": "13167749",
   "metadata": {},
   "outputs": [],
   "source": [
    "from langchain_openai import OpenAIEmbeddings\n",
    "from langchain.vectorstores import Chroma"
   ]
  },
  {
   "cell_type": "code",
   "execution_count": 9,
   "metadata": {},
   "outputs": [],
   "source": [
    "from langchain.schema import Document\n",
    "\n",
    "# Create Langchain documents for IPL Players\n",
    "\n",
    "doc1 = Document(\n",
    "    page_content=\"Virat Kohli is a right-handed batsman and former captain of the Indian cricket team.\",\n",
    "    metadata={\"team\": \"Royal Challengers Bangalore\", \"role\": \"Batsman\"}\n",
    ")\n",
    "\n",
    "doc2 = Document (\n",
    "    page_content=\"Jasprit Bumrah is a right-arm fast bowler known for his unique bowling action and yorkers.\",\n",
    "    metadata={\"team\": \"Mumbai Indians\", \"role\": \"Bowler\"}\n",
    ")\n",
    "\n",
    "doc3 = Document (\n",
    "    page_content=\"MS Dhoni is a wicket-keeper batsman and former captain of the Indian cricket team.\",\n",
    "    metadata={\"team\": \"Chennai Super Kings\", \"role\": \"Wicket-Keeper\"}\n",
    ")\n",
    "\n",
    "doc4 = Document (\n",
    "    page_content=\"Rohit Sharma is a right-handed batsman and the current captain of the Indian cricket team.\",\n",
    "    metadata={\"team\": \"Mumbai Indians\", \"role\": \"Batsman\"}\n",
    ")\n",
    "\n",
    "doc5 = Document (\n",
    "    page_content=\"Hardik Pandya is an all-rounder who can contribute with both bat and ball.\",\n",
    "    metadata={\"team\": \"Mumbai Indians\", \"role\": \"All-Rounder\"}\n",
    ")"
   ]
  },
  {
   "cell_type": "code",
   "execution_count": 10,
   "id": "5d1fb11a",
   "metadata": {},
   "outputs": [],
   "source": [
    "# List of documents\n",
    "\n",
    "docs = [doc1, doc2, doc3, doc4, doc5]"
   ]
  },
  {
   "cell_type": "code",
   "execution_count": 12,
   "metadata": {},
   "outputs": [
    {
     "ename": "OpenAIError",
     "evalue": "The api_key client option must be set either by passing api_key to the client or by setting the OPENAI_API_KEY environment variable",
     "output_type": "error",
     "traceback": [
      "\u001b[31m---------------------------------------------------------------------------\u001b[39m",
      "\u001b[31mOpenAIError\u001b[39m                               Traceback (most recent call last)",
      "\u001b[36mCell\u001b[39m\u001b[36m \u001b[39m\u001b[32mIn[12]\u001b[39m\u001b[32m, line 2\u001b[39m\n\u001b[32m      1\u001b[39m vector_store = Chroma.from_documents(\n\u001b[32m----> \u001b[39m\u001b[32m2\u001b[39m     embedding_function=\u001b[43mOpenAIEmbeddings\u001b[49m\u001b[43m(\u001b[49m\u001b[43m)\u001b[49m,\n\u001b[32m      3\u001b[39m     persist_directory=\u001b[33m\"\u001b[39m\u001b[33mchroma_db\u001b[39m\u001b[33m\"\u001b[39m,\n\u001b[32m      4\u001b[39m     collection_name=\u001b[33m\"\u001b[39m\u001b[33mipl_players\u001b[39m\u001b[33m\"\u001b[39m\n\u001b[32m      5\u001b[39m )\n",
      "    \u001b[31m[... skipping hidden 1 frame]\u001b[39m\n",
      "\u001b[36mFile \u001b[39m\u001b[32m/mnt/d/Academics/Generative AI by CampusX/.venv/lib/python3.12/site-packages/langchain_openai/embeddings/base.py:327\u001b[39m, in \u001b[36mOpenAIEmbeddings.validate_environment\u001b[39m\u001b[34m(self)\u001b[39m\n\u001b[32m    325\u001b[39m         \u001b[38;5;28mself\u001b[39m.http_client = httpx.Client(proxy=\u001b[38;5;28mself\u001b[39m.openai_proxy)\n\u001b[32m    326\u001b[39m     sync_specific = {\u001b[33m\"\u001b[39m\u001b[33mhttp_client\u001b[39m\u001b[33m\"\u001b[39m: \u001b[38;5;28mself\u001b[39m.http_client}\n\u001b[32m--> \u001b[39m\u001b[32m327\u001b[39m     \u001b[38;5;28mself\u001b[39m.client = \u001b[43mopenai\u001b[49m\u001b[43m.\u001b[49m\u001b[43mOpenAI\u001b[49m\u001b[43m(\u001b[49m\u001b[43m*\u001b[49m\u001b[43m*\u001b[49m\u001b[43mclient_params\u001b[49m\u001b[43m,\u001b[49m\u001b[43m \u001b[49m\u001b[43m*\u001b[49m\u001b[43m*\u001b[49m\u001b[43msync_specific\u001b[49m\u001b[43m)\u001b[49m.embeddings  \u001b[38;5;66;03m# type: ignore[arg-type]\u001b[39;00m\n\u001b[32m    328\u001b[39m \u001b[38;5;28;01mif\u001b[39;00m \u001b[38;5;129;01mnot\u001b[39;00m \u001b[38;5;28mself\u001b[39m.async_client:\n\u001b[32m    329\u001b[39m     \u001b[38;5;28;01mif\u001b[39;00m \u001b[38;5;28mself\u001b[39m.openai_proxy \u001b[38;5;129;01mand\u001b[39;00m \u001b[38;5;129;01mnot\u001b[39;00m \u001b[38;5;28mself\u001b[39m.http_async_client:\n",
      "\u001b[36mFile \u001b[39m\u001b[32m/mnt/d/Academics/Generative AI by CampusX/.venv/lib/python3.12/site-packages/openai/_client.py:130\u001b[39m, in \u001b[36mOpenAI.__init__\u001b[39m\u001b[34m(self, api_key, organization, project, webhook_secret, base_url, websocket_base_url, timeout, max_retries, default_headers, default_query, http_client, _strict_response_validation)\u001b[39m\n\u001b[32m    128\u001b[39m     api_key = os.environ.get(\u001b[33m\"\u001b[39m\u001b[33mOPENAI_API_KEY\u001b[39m\u001b[33m\"\u001b[39m)\n\u001b[32m    129\u001b[39m \u001b[38;5;28;01mif\u001b[39;00m api_key \u001b[38;5;129;01mis\u001b[39;00m \u001b[38;5;28;01mNone\u001b[39;00m:\n\u001b[32m--> \u001b[39m\u001b[32m130\u001b[39m     \u001b[38;5;28;01mraise\u001b[39;00m OpenAIError(\n\u001b[32m    131\u001b[39m         \u001b[33m\"\u001b[39m\u001b[33mThe api_key client option must be set either by passing api_key to the client or by setting the OPENAI_API_KEY environment variable\u001b[39m\u001b[33m\"\u001b[39m\n\u001b[32m    132\u001b[39m     )\n\u001b[32m    133\u001b[39m \u001b[38;5;28mself\u001b[39m.api_key = api_key\n\u001b[32m    135\u001b[39m \u001b[38;5;28;01mif\u001b[39;00m organization \u001b[38;5;129;01mis\u001b[39;00m \u001b[38;5;28;01mNone\u001b[39;00m:\n",
      "\u001b[31mOpenAIError\u001b[39m: The api_key client option must be set either by passing api_key to the client or by setting the OPENAI_API_KEY environment variable"
     ]
    }
   ],
   "source": [
    "vector_store = Chroma.from_documents(\n",
    "    embedding_function=OpenAIEmbeddings(),\n",
    "    persist_directory=\"chroma_db\",\n",
    "    collection_name=\"ipl_players\"\n",
    ")"
   ]
  },
  {
   "cell_type": "code",
   "execution_count": null,
   "metadata": {},
   "outputs": [],
   "source": [
    "# Add documents to the vector store\n",
    "vector_store.add_documents(docs)"
   ]
  },
  {
   "cell_type": "code",
   "execution_count": null,
   "metadata": {},
   "outputs": [],
   "source": [
    "# View documents in the collection\n",
    "vector_store.get(include=[\"embeddings\", \"metadata\", \"documents\"])"
   ]
  },
  {
   "cell_type": "code",
   "execution_count": null,
   "id": "2fa537b6",
   "metadata": {},
   "outputs": [],
   "source": [
    "# Search for similar documents\n",
    "query = \"Who among the players is a wicket-keeper?\"\n",
    "\n",
    "results = vector_store.similarity_search(query, k=2)  # k is the number of similar documents to retrieve\n",
    "print(results)"
   ]
  },
  {
   "cell_type": "code",
   "execution_count": null,
   "id": "526a9222",
   "metadata": {},
   "outputs": [],
   "source": [
    "# search with similarity score\n",
    "\n",
    "results_with_score = vector_store.similarity_search_with_score(query, k=2)"
   ]
  },
  {
   "cell_type": "code",
   "execution_count": null,
   "id": "ac1f6474",
   "metadata": {},
   "outputs": [],
   "source": [
    "# meta data filter\n",
    "filter_criteria = {\"role\": \"Batsman\"}\n",
    "\n",
    "filtered_results = vector_store.similarity_search(\n",
    "    # query, k=2, filter=filter_criteria\n",
    "    query=\"\", k=2, filter=filter_criteria\n",
    ")"
   ]
  },
  {
   "cell_type": "code",
   "execution_count": null,
   "id": "8305f8e6",
   "metadata": {},
   "outputs": [],
   "source": [
    "# update document \n",
    "updated_doc3 = Document (\n",
    "    page_content=\"Mahendra Singh Dhoni is a wicket-keeper batsman and former captain of the Indian cricket team. He is known for his calm demeanor and finishing abilities.\" ,\n",
    "    metadata={\"team\": \"Chennai Super Kings\", \"role\": \"Wicket-Keeper\"}\n",
    ") \n",
    "\n",
    "vector_store.update_documents(updated_doc3, ids=[\"3\"])  # Assuming doc3 has an ID of \"3\""
   ]
  },
  {
   "cell_type": "code",
   "execution_count": null,
   "metadata": {},
   "outputs": [],
   "source": [
    "# Delete document\n",
    "deleted_doc2 = vector_store.delete_documents(ids=[\"2\"])  # Assuming doc2 has an ID of \"2\""
   ]
  },
  {
   "cell_type": "code",
   "execution_count": null,
   "id": "8115757f",
   "metadata": {},
   "outputs": [],
   "source": [
    "# View documents in the collection after update and delete\n",
    "vector_store.get(include=[\"embeddings\", \"metadata\", \"documents\"])"
   ]
  },
  {
   "cell_type": "code",
   "execution_count": null,
   "metadata": {},
   "outputs": [],
   "source": []
  }
 ],
 "metadata": {
  "kernelspec": {
   "display_name": "Generative AI by CampusX",
   "language": "python",
   "name": "python3"
  },
  "language_info": {
   "codemirror_mode": {
    "name": "ipython",
    "version": 3
   },
   "file_extension": ".py",
   "mimetype": "text/x-python",
   "name": "python",
   "nbconvert_exporter": "python",
   "pygments_lexer": "ipython3",
   "version": "3.12.3"
  }
 },
 "nbformat": 4,
 "nbformat_minor": 5
}
