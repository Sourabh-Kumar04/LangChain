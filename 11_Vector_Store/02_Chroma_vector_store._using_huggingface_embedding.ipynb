{
 "cells": [
  {
   "cell_type": "code",
   "execution_count": 3,
   "id": "4f5727cb",
   "metadata": {},
   "outputs": [],
   "source": [
    "# !uv pip install langchain chromadb openai langchain_huggingface tiktoken pypdf langchain-community"
   ]
  },
  {
   "cell_type": "code",
   "execution_count": 4,
   "id": "13167749",
   "metadata": {},
   "outputs": [],
   "source": [
    "from langchain_huggingface import HuggingFaceEmbeddings\n",
    "from langchain_community.vectorstores import Chroma\n",
    "from langchain.schema import Document\n",
    "\n",
    "# Hugging Face embeddings\n",
    "embeddings = HuggingFaceEmbeddings(\n",
    "    model_name=\"sentence-transformers/all-MiniLM-L6-v2\"\n",
    ")"
   ]
  },
  {
   "cell_type": "code",
   "execution_count": 5,
   "metadata": {},
   "outputs": [],
   "source": [
    "from langchain.schema import Document\n",
    "\n",
    "# Create Langchain documents for IPL Players\n",
    "\n",
    "doc1 = Document(\n",
    "    page_content=\"Virat Kohli is a right-handed batsman and former captain of the Indian cricket team.\",\n",
    "    metadata={\"team\": \"Royal Challengers Bangalore\", \"role\": \"Batsman\"}\n",
    ")\n",
    "\n",
    "doc2 = Document (\n",
    "    page_content=\"Jasprit Bumrah is a right-arm fast bowler known for his unique bowling action and yorkers.\",\n",
    "    metadata={\"team\": \"Mumbai Indians\", \"role\": \"Bowler\"}\n",
    ")\n",
    "\n",
    "doc3 = Document (\n",
    "    page_content=\"MS Dhoni is a wicket-keeper batsman and former captain of the Indian cricket team.\",\n",
    "    metadata={\"team\": \"Chennai Super Kings\", \"role\": \"Wicket-Keeper\"}\n",
    ")\n",
    "\n",
    "doc4 = Document (\n",
    "    page_content=\"Rohit Sharma is a right-handed batsman and the current captain of the Indian cricket team.\",\n",
    "    metadata={\"team\": \"Mumbai Indians\", \"role\": \"Batsman\"}\n",
    ")\n",
    "\n",
    "doc5 = Document (\n",
    "    page_content=\"Hardik Pandya is an all-rounder who can contribute with both bat and ball.\",\n",
    "    metadata={\"team\": \"Mumbai Indians\", \"role\": \"All-Rounder\"}\n",
    ")"
   ]
  },
  {
   "cell_type": "code",
   "execution_count": 6,
   "id": "5d1fb11a",
   "metadata": {},
   "outputs": [],
   "source": [
    "# List of documents\n",
    "\n",
    "docs = [doc1, doc2, doc3, doc4, doc5]"
   ]
  },
  {
   "cell_type": "code",
   "execution_count": 7,
   "metadata": {},
   "outputs": [
    {
     "name": "stderr",
     "output_type": "stream",
     "text": [
      "/mnt/d/Academics/Generative AI by CampusX/.venv/lib/python3.12/site-packages/torch/nn/modules/module.py:1784: FutureWarning: `encoder_attention_mask` is deprecated and will be removed in version 4.55.0 for `BertSdpaSelfAttention.forward`.\n",
      "  return forward_call(*args, **kwargs)\n"
     ]
    }
   ],
   "source": [
    "# Create Chroma DB using HuggingFace embeddings\n",
    "vector_store = Chroma.from_documents(\n",
    "    documents=docs,\n",
    "    embedding=embeddings,\n",
    "    persist_directory=\"01_chroma_db\",\n",
    "    collection_name=\"ipl_players\"\n",
    ")\n",
    "\n",
    "# Persist the DB\n",
    "# vector_store.persist()"
   ]
  },
  {
   "cell_type": "code",
   "execution_count": 8,
   "metadata": {},
   "outputs": [],
   "source": [
    "# Add documents to the vector store\n",
    "# vector_store.add_documents(docs)"
   ]
  },
  {
   "cell_type": "code",
   "execution_count": 9,
   "metadata": {},
   "outputs": [
    {
     "data": {
      "text/plain": [
       "{'ids': ['b686756f-c3ff-46db-b07b-1e6415c81dce',\n",
       "  '2e7c76a6-1d4c-4627-8277-853760e4e98c',\n",
       "  'f701db84-ec28-4913-8f72-8af039f329c3',\n",
       "  '6696ae04-63d7-4d9f-816d-3d142a5e47b0',\n",
       "  '00186463-3a7b-4fa3-94ce-c42f937dbccb'],\n",
       " 'embeddings': array([[ 0.01214669,  0.08446035, -0.03096429, ...,  0.06186824,\n",
       "          0.03981312,  0.00301823],\n",
       "        [ 0.01034031, -0.00808001, -0.04141308, ..., -0.07776487,\n",
       "         -0.00688125,  0.11869267],\n",
       "        [-0.03746631,  0.03963504,  0.04159963, ...,  0.01288937,\n",
       "          0.02804302, -0.04915711],\n",
       "        [ 0.00272104,  0.02640508, -0.01630465, ...,  0.05252214,\n",
       "          0.00943196,  0.00743705],\n",
       "        [ 0.04585668,  0.02439576, -0.08657685, ..., -0.00734251,\n",
       "          0.00753077,  0.02940826]], shape=(5, 384)),\n",
       " 'documents': ['Virat Kohli is a right-handed batsman and former captain of the Indian cricket team.',\n",
       "  'Jasprit Bumrah is a right-arm fast bowler known for his unique bowling action and yorkers.',\n",
       "  'MS Dhoni is a wicket-keeper batsman and former captain of the Indian cricket team.',\n",
       "  'Rohit Sharma is a right-handed batsman and the current captain of the Indian cricket team.',\n",
       "  'Hardik Pandya is an all-rounder who can contribute with both bat and ball.'],\n",
       " 'uris': None,\n",
       " 'included': ['embeddings', 'metadatas', 'documents'],\n",
       " 'data': None,\n",
       " 'metadatas': [{'role': 'Batsman', 'team': 'Royal Challengers Bangalore'},\n",
       "  {'role': 'Bowler', 'team': 'Mumbai Indians'},\n",
       "  {'team': 'Chennai Super Kings', 'role': 'Wicket-Keeper'},\n",
       "  {'role': 'Batsman', 'team': 'Mumbai Indians'},\n",
       "  {'role': 'All-Rounder', 'team': 'Mumbai Indians'}]}"
      ]
     },
     "execution_count": 9,
     "metadata": {},
     "output_type": "execute_result"
    }
   ],
   "source": [
    "# View documents in the collection\n",
    "vector_store.get(include=[\"embeddings\", \"metadatas\", \"documents\"])"
   ]
  },
  {
   "cell_type": "code",
   "execution_count": 10,
   "id": "2fa537b6",
   "metadata": {},
   "outputs": [
    {
     "name": "stdout",
     "output_type": "stream",
     "text": [
      "[Document(metadata={'team': 'Mumbai Indians', 'role': 'All-Rounder'}, page_content='Hardik Pandya is an all-rounder who can contribute with both bat and ball.'), Document(metadata={'team': 'Chennai Super Kings', 'role': 'Wicket-Keeper'}, page_content='MS Dhoni is a wicket-keeper batsman and former captain of the Indian cricket team.')]\n"
     ]
    }
   ],
   "source": [
    "# Search for similar documents\n",
    "query = \"Who among the players is a wicket-keeper?\"\n",
    "\n",
    "results = vector_store.similarity_search(query, k=2)  # k is the number of similar documents to retrieve\n",
    "print(results)"
   ]
  },
  {
   "cell_type": "code",
   "execution_count": 11,
   "id": "526a9222",
   "metadata": {},
   "outputs": [],
   "source": [
    "# search with similarity score\n",
    "\n",
    "results_with_score = vector_store.similarity_search_with_score(query, k=2)"
   ]
  },
  {
   "cell_type": "code",
   "execution_count": 12,
   "id": "ac1f6474",
   "metadata": {},
   "outputs": [],
   "source": [
    "# meta data filter\n",
    "filter_criteria = {\"role\": \"Batsman\"}\n",
    "\n",
    "filtered_results = vector_store.similarity_search(\n",
    "    # query, k=2, filter=filter_criteria\n",
    "    query=\"\", k=2, filter=filter_criteria\n",
    ")"
   ]
  },
  {
   "cell_type": "code",
   "execution_count": 13,
   "id": "8305f8e6",
   "metadata": {},
   "outputs": [
    {
     "data": {
      "text/plain": [
       "['5b179085-f3e5-4148-be16-f622e6fc25ef']"
      ]
     },
     "execution_count": 13,
     "metadata": {},
     "output_type": "execute_result"
    }
   ],
   "source": [
    "# update document \n",
    "updated_doc3 = Document (\n",
    "    page_content=\"Mahendra Singh Dhoni is a wicket-keeper batsman and former captain of the Indian cricket team. He is known for his calm demeanor and finishing abilities.\" ,\n",
    "    metadata={\"team\": \"Chennai Super Kings\", \"role\": \"Wicket-Keeper\"}\n",
    ") \n",
    "\n",
    "vector_store.add_documents([updated_doc3], ids=[\"5b179085-f3e5-4148-be16-f622e6fc25ef\"])  # Assuming doc3 has an ID of \"3\"\n",
    "\n",
    "# 5b179085-f3e5-4148-be16-f622e6fc25ef"
   ]
  },
  {
   "cell_type": "code",
   "execution_count": 14,
   "id": "8e52ff3b",
   "metadata": {},
   "outputs": [
    {
     "data": {
      "text/plain": [
       "{'ids': ['b686756f-c3ff-46db-b07b-1e6415c81dce',\n",
       "  '2e7c76a6-1d4c-4627-8277-853760e4e98c',\n",
       "  'f701db84-ec28-4913-8f72-8af039f329c3',\n",
       "  '6696ae04-63d7-4d9f-816d-3d142a5e47b0',\n",
       "  '00186463-3a7b-4fa3-94ce-c42f937dbccb',\n",
       "  '5b179085-f3e5-4148-be16-f622e6fc25ef'],\n",
       " 'embeddings': array([[ 1.21466946e-02,  8.44603479e-02, -3.09642926e-02, ...,\n",
       "          6.18682392e-02,  3.98131236e-02,  3.01823393e-03],\n",
       "        [ 1.03403069e-02, -8.08001403e-03, -4.14130762e-02, ...,\n",
       "         -7.77648687e-02, -6.88124821e-03,  1.18692674e-01],\n",
       "        [-3.74663100e-02,  3.96350436e-02,  4.15996313e-02, ...,\n",
       "          1.28893703e-02,  2.80430224e-02, -4.91571091e-02],\n",
       "        [ 2.72103539e-03,  2.64050793e-02, -1.63046494e-02, ...,\n",
       "          5.25221378e-02,  9.43196192e-03,  7.43704569e-03],\n",
       "        [ 4.58566770e-02,  2.43957564e-02, -8.65768492e-02, ...,\n",
       "         -7.34250713e-03,  7.53076887e-03,  2.94082556e-02],\n",
       "        [-2.09149960e-02,  5.46629541e-02,  9.73453789e-05, ...,\n",
       "         -8.30865279e-03, -3.35441157e-03,  8.37296306e-04]],\n",
       "       shape=(6, 384)),\n",
       " 'documents': ['Virat Kohli is a right-handed batsman and former captain of the Indian cricket team.',\n",
       "  'Jasprit Bumrah is a right-arm fast bowler known for his unique bowling action and yorkers.',\n",
       "  'MS Dhoni is a wicket-keeper batsman and former captain of the Indian cricket team.',\n",
       "  'Rohit Sharma is a right-handed batsman and the current captain of the Indian cricket team.',\n",
       "  'Hardik Pandya is an all-rounder who can contribute with both bat and ball.',\n",
       "  'Mahendra Singh Dhoni is a wicket-keeper batsman and former captain of the Indian cricket team. He is known for his calm demeanor and finishing abilities.'],\n",
       " 'uris': None,\n",
       " 'included': ['embeddings', 'metadatas', 'documents'],\n",
       " 'data': None,\n",
       " 'metadatas': [{'role': 'Batsman', 'team': 'Royal Challengers Bangalore'},\n",
       "  {'team': 'Mumbai Indians', 'role': 'Bowler'},\n",
       "  {'team': 'Chennai Super Kings', 'role': 'Wicket-Keeper'},\n",
       "  {'role': 'Batsman', 'team': 'Mumbai Indians'},\n",
       "  {'role': 'All-Rounder', 'team': 'Mumbai Indians'},\n",
       "  {'team': 'Chennai Super Kings', 'role': 'Wicket-Keeper'}]}"
      ]
     },
     "execution_count": 14,
     "metadata": {},
     "output_type": "execute_result"
    }
   ],
   "source": [
    "# View documents in the collection\n",
    "vector_store.get(include=[\"embeddings\", \"metadatas\", \"documents\"])"
   ]
  },
  {
   "cell_type": "code",
   "execution_count": 15,
   "id": "aedbed3b",
   "metadata": {},
   "outputs": [
    {
     "name": "stdout",
     "output_type": "stream",
     "text": [
      "['b686756f-c3ff-46db-b07b-1e6415c81dce', '2e7c76a6-1d4c-4627-8277-853760e4e98c', 'f701db84-ec28-4913-8f72-8af039f329c3', '6696ae04-63d7-4d9f-816d-3d142a5e47b0', '00186463-3a7b-4fa3-94ce-c42f937dbccb', '5b179085-f3e5-4148-be16-f622e6fc25ef']\n"
     ]
    }
   ],
   "source": [
    "print(vector_store.get()[\"ids\"])"
   ]
  },
  {
   "cell_type": "code",
   "execution_count": 19,
   "metadata": {},
   "outputs": [],
   "source": [
    "# Delete document\n",
    "deleted_doc2 = vector_store.delete(ids=[\"2e7c76a6-1d4c-4627-8277-853760e4e98c\"])   # Replace \"3\" with your actual stored ID"
   ]
  },
  {
   "cell_type": "code",
   "execution_count": 20,
   "id": "8115757f",
   "metadata": {},
   "outputs": [
    {
     "data": {
      "text/plain": [
       "{'ids': ['b686756f-c3ff-46db-b07b-1e6415c81dce',\n",
       "  'f701db84-ec28-4913-8f72-8af039f329c3',\n",
       "  '6696ae04-63d7-4d9f-816d-3d142a5e47b0',\n",
       "  '00186463-3a7b-4fa3-94ce-c42f937dbccb',\n",
       "  '5b179085-f3e5-4148-be16-f622e6fc25ef'],\n",
       " 'embeddings': array([[ 1.21466946e-02,  8.44603479e-02, -3.09642926e-02, ...,\n",
       "          6.18682392e-02,  3.98131236e-02,  3.01823393e-03],\n",
       "        [-3.74663100e-02,  3.96350436e-02,  4.15996313e-02, ...,\n",
       "          1.28893703e-02,  2.80430224e-02, -4.91571091e-02],\n",
       "        [ 2.72103539e-03,  2.64050793e-02, -1.63046494e-02, ...,\n",
       "          5.25221378e-02,  9.43196192e-03,  7.43704569e-03],\n",
       "        [ 4.58566770e-02,  2.43957564e-02, -8.65768492e-02, ...,\n",
       "         -7.34250713e-03,  7.53076887e-03,  2.94082556e-02],\n",
       "        [-2.09149960e-02,  5.46629541e-02,  9.73453789e-05, ...,\n",
       "         -8.30865279e-03, -3.35441157e-03,  8.37296306e-04]],\n",
       "       shape=(5, 384)),\n",
       " 'documents': ['Virat Kohli is a right-handed batsman and former captain of the Indian cricket team.',\n",
       "  'MS Dhoni is a wicket-keeper batsman and former captain of the Indian cricket team.',\n",
       "  'Rohit Sharma is a right-handed batsman and the current captain of the Indian cricket team.',\n",
       "  'Hardik Pandya is an all-rounder who can contribute with both bat and ball.',\n",
       "  'Mahendra Singh Dhoni is a wicket-keeper batsman and former captain of the Indian cricket team. He is known for his calm demeanor and finishing abilities.'],\n",
       " 'uris': None,\n",
       " 'included': ['embeddings', 'metadatas', 'documents'],\n",
       " 'data': None,\n",
       " 'metadatas': [{'team': 'Royal Challengers Bangalore', 'role': 'Batsman'},\n",
       "  {'role': 'Wicket-Keeper', 'team': 'Chennai Super Kings'},\n",
       "  {'role': 'Batsman', 'team': 'Mumbai Indians'},\n",
       "  {'team': 'Mumbai Indians', 'role': 'All-Rounder'},\n",
       "  {'role': 'Wicket-Keeper', 'team': 'Chennai Super Kings'}]}"
      ]
     },
     "execution_count": 20,
     "metadata": {},
     "output_type": "execute_result"
    }
   ],
   "source": [
    "# View documents in the collection after update and delete\n",
    "vector_store.get(include=[\"embeddings\", \"metadatas\", \"documents\"])"
   ]
  }
 ],
 "metadata": {
  "kernelspec": {
   "display_name": "Generative AI by CampusX",
   "language": "python",
   "name": "python3"
  },
  "language_info": {
   "codemirror_mode": {
    "name": "ipython",
    "version": 3
   },
   "file_extension": ".py",
   "mimetype": "text/x-python",
   "name": "python",
   "nbconvert_exporter": "python",
   "pygments_lexer": "ipython3",
   "version": "3.12.3"
  }
 },
 "nbformat": 4,
 "nbformat_minor": 5
}
