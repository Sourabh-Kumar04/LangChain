{
 "cells": [
  {
   "cell_type": "code",
   "execution_count": 77,
   "id": "edde3185",
   "metadata": {},
   "outputs": [],
   "source": [
    "from abc import ABC, abstractmethod"
   ]
  },
  {
   "cell_type": "code",
   "execution_count": 78,
   "id": "569215d5",
   "metadata": {},
   "outputs": [],
   "source": [
    "class Runnable(ABC):\n",
    "\n",
    "    @abstractmethod\n",
    "    def invoke(input_data):\n",
    "        pass"
   ]
  },
  {
   "cell_type": "code",
   "execution_count": 79,
   "metadata": {},
   "outputs": [],
   "source": [
    "import random \n",
    "\n",
    "class NakliLLM(Runnable):\n",
    "\n",
    "    def __init__(self):\n",
    "        print(\"NakliLLM initialized\")\n",
    "\n",
    "    def invoke(self, prompt):\n",
    "        response_list = [\n",
    "            \"Delhi is the capital of India.\",\n",
    "            \"IPL is a T20 cricket league in India.\",\n",
    "            \"Python is a programming language.\"\n",
    "        ]\n",
    "\n",
    "        return {'response': random.choice(response_list)}\n",
    "\n",
    "    def predict(self, promt):\n",
    "        response_list = [\n",
    "            \"Delhi is the capital of India.\",\n",
    "            \"IPL is a T20 cricket league in India.\",\n",
    "            \"Python is a programming language.\"\n",
    "        ]\n",
    "\n",
    "        return {'response': random.choice(response_list + \"\\npredict method is depricated, use invoke instead.\")}"
   ]
  },
  {
   "cell_type": "code",
   "execution_count": 80,
   "id": "759dfc20",
   "metadata": {},
   "outputs": [
    {
     "name": "stdout",
     "output_type": "stream",
     "text": [
      "NakliLLM initialized\n"
     ]
    }
   ],
   "source": [
    "llm = NakliLLM()"
   ]
  },
  {
   "cell_type": "code",
   "execution_count": 81,
   "metadata": {},
   "outputs": [],
   "source": [
    "class NakliPromptTemaplate(Runnable):\n",
    "\n",
    "    def __init__(self, template, input_variables):\n",
    "        self.template = template\n",
    "        self.input_variables = input_variables\n",
    "\n",
    "    def invoke(self, input_dict):\n",
    "        return self.template.format(**input_dict)\n",
    "\n",
    "    def format(self, input_dict):\n",
    "        return self.template.format(**input_dict + \"\\npredict method is depricated, use invoke instead.\")"
   ]
  },
  {
   "cell_type": "code",
   "execution_count": 82,
   "id": "05251f7d",
   "metadata": {},
   "outputs": [],
   "source": [
    "class NakliStrOutParser(Runnable):\n",
    "\n",
    "    def __init__(self):\n",
    "        pass\n",
    "\n",
    "    def invoke(self, llm_output):\n",
    "        return llm_output['response']\n",
    "\n",
    "    def parse(self, llm_output):\n",
    "        return llm_output['response'] + \"\\npredict method is depricated, use invoke instead.\""
   ]
  },
  {
   "cell_type": "code",
   "execution_count": 83,
   "id": "b493c607",
   "metadata": {},
   "outputs": [],
   "source": [
    "class RunnableConnector(Runnable):\n",
    "\n",
    "    def __init__(self, runnable_list):\n",
    "        self.runnable_list = runnable_list\n",
    "\n",
    "    def invoke(self, input_data):\n",
    "\n",
    "        for runnable in self.runnable_list:\n",
    "            input_data = runnable.invoke(input_data)\n",
    "\n",
    "        return input_data"
   ]
  },
  {
   "cell_type": "code",
   "execution_count": 84,
   "id": "b224c81f",
   "metadata": {},
   "outputs": [],
   "source": [
    "template = NakliPromptTemaplate(\n",
    "    template=\"Write a {length} article on {topic}\",\n",
    "    input_variables=[\"length\", \"topic\"]\n",
    ")"
   ]
  },
  {
   "cell_type": "code",
   "execution_count": 85,
   "id": "c07849d7",
   "metadata": {},
   "outputs": [
    {
     "name": "stdout",
     "output_type": "stream",
     "text": [
      "NakliLLM initialized\n"
     ]
    }
   ],
   "source": [
    "llm = NakliLLM()"
   ]
  },
  {
   "cell_type": "code",
   "execution_count": 86,
   "id": "429af82c",
   "metadata": {},
   "outputs": [],
   "source": [
    "parser = NakliStrOutParser()"
   ]
  },
  {
   "cell_type": "code",
   "execution_count": 87,
   "id": "424fd7f5",
   "metadata": {},
   "outputs": [],
   "source": [
    "chain = RunnableConnector([template, llm, parser])"
   ]
  },
  {
   "cell_type": "code",
   "execution_count": 88,
   "id": "492a6107",
   "metadata": {},
   "outputs": [
    {
     "data": {
      "text/plain": [
       "'Delhi is the capital of India.'"
      ]
     },
     "execution_count": 88,
     "metadata": {},
     "output_type": "execute_result"
    }
   ],
   "source": [
    "chain.invoke({\"length\": \"long\", \"topic\": \"India\"})"
   ]
  },
  {
   "cell_type": "code",
   "execution_count": 89,
   "id": "d30b454e",
   "metadata": {},
   "outputs": [],
   "source": [
    "template1 = NakliPromptTemaplate(\n",
    "    template=\"Write a joke about {topic}\",\n",
    "    input_variables=[\"topic\"]\n",
    ")"
   ]
  },
  {
   "cell_type": "code",
   "execution_count": 90,
   "metadata": {},
   "outputs": [],
   "source": [
    "template2 = NakliPromptTemaplate(\n",
    "    template=\"Explain the follwoing joke {response}\",\n",
    "    input_variables=[\"response\"]\n",
    ")"
   ]
  },
  {
   "cell_type": "code",
   "execution_count": 91,
   "metadata": {},
   "outputs": [
    {
     "name": "stdout",
     "output_type": "stream",
     "text": [
      "NakliLLM initialized\n"
     ]
    }
   ],
   "source": [
    "llm = NakliLLM()"
   ]
  },
  {
   "cell_type": "code",
   "execution_count": 93,
   "metadata": {},
   "outputs": [],
   "source": [
    "parser = NakliStrOutParser()"
   ]
  },
  {
   "cell_type": "code",
   "execution_count": 97,
   "metadata": {},
   "outputs": [],
   "source": [
    "chain1 = RunnableConnector([template1, llm])"
   ]
  },
  {
   "cell_type": "code",
   "execution_count": 99,
   "metadata": {},
   "outputs": [
    {
     "data": {
      "text/plain": [
       "{'response': 'IPL is a T20 cricket league in India.'}"
      ]
     },
     "execution_count": 99,
     "metadata": {},
     "output_type": "execute_result"
    }
   ],
   "source": [
    "chain1.invoke({\"topic\": \"AI\"})"
   ]
  },
  {
   "cell_type": "code",
   "execution_count": 100,
   "id": "7b40d577",
   "metadata": {},
   "outputs": [],
   "source": [
    "chain2 = RunnableConnector([template2, llm, parser])"
   ]
  },
  {
   "cell_type": "code",
   "execution_count": 101,
   "metadata": {},
   "outputs": [
    {
     "data": {
      "text/plain": [
       "'Python is a programming language.'"
      ]
     },
     "execution_count": 101,
     "metadata": {},
     "output_type": "execute_result"
    }
   ],
   "source": [
    "chain2.invoke({\"response\": \"this is a joke about AI\"})"
   ]
  },
  {
   "cell_type": "code",
   "execution_count": 103,
   "metadata": {},
   "outputs": [],
   "source": [
    "final_chain = RunnableConnector([chain1, chain2])"
   ]
  },
  {
   "cell_type": "code",
   "execution_count": 105,
   "id": "da20323b",
   "metadata": {},
   "outputs": [
    {
     "data": {
      "text/plain": [
       "'IPL is a T20 cricket league in India.'"
      ]
     },
     "execution_count": 105,
     "metadata": {},
     "output_type": "execute_result"
    }
   ],
   "source": [
    "final_chain.invoke({\"topic\": \"AI\"})"
   ]
  }
 ],
 "metadata": {
  "kernelspec": {
   "display_name": "Generative AI by CampusX",
   "language": "python",
   "name": "python3"
  },
  "language_info": {
   "codemirror_mode": {
    "name": "ipython",
    "version": 3
   },
   "file_extension": ".py",
   "mimetype": "text/x-python",
   "name": "python",
   "nbconvert_exporter": "python",
   "pygments_lexer": "ipython3",
   "version": "3.12.3"
  }
 },
 "nbformat": 4,
 "nbformat_minor": 5
}
